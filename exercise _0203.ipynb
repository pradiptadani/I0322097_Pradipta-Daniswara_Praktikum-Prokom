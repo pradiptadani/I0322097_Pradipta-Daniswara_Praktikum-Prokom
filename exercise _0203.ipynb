{
 "cells": [
  {
   "cell_type": "code",
   "execution_count": null,
   "metadata": {},
   "outputs": [],
   "source": [
    "print(input(\"Nama: \"))\n",
    "print(input(\"NIM: \"))\n",
    "print(input(\"Kelas: \"))"
   ]
  },
  {
   "attachments": {},
   "cell_type": "markdown",
   "metadata": {},
   "source": [
    "## 1."
   ]
  },
  {
   "attachments": {},
   "cell_type": "markdown",
   "metadata": {},
   "source": [
    "buatlah program sederhana untuk:\n",
    "* **A** mencari massa jika diketahui nilai energi potensial, percepatan gravitasi, dan ketinggian benda! beserta rumus nya!\n",
    "* **B** mencari gaya apung jika diketahui massa jenis, tinggi, panjang, dan lebar benda serta percepatan gravitasi dan contohnya! beserta rumus nya!\n",
    "* **C** Tulis program Python untuk menghitung luas dari segi lima sama sisi!\n",
    "\n",
    "> *note* : rumus, contoh, dan nilai dari tiap variabel ditentukan oleh kalian sendiri dan gunakan satuan baku (SI) untuk menghitung nilai dari tiap variabel"
   ]
  },
  {
   "cell_type": "code",
   "execution_count": 7,
   "metadata": {},
   "outputs": [
    {
     "name": "stdout",
     "output_type": "stream",
     "text": [
      "Diketahui: \n",
      "Nilai Energi Potensial = 123.0 Joule \n",
      "Nilai Ketinggian Benda = 123.0 M \n",
      "Nilai Percepatan Gravitasi = 10 M/S^2 \n",
      "Melalui rumus energi potensial yaitu EP = M x G x H\n",
      "Besar Massa adalah 0.1 Kg\n"
     ]
    }
   ],
   "source": [
    "# A\n",
    "ep = float(input('Masukkan Nilai Energi Potensial: '))\n",
    "g = 10 \n",
    "h = float(input('Masukkan nilai ketinggian benda: '))\n",
    "m = ep/(g*h)\n",
    "\n",
    "print(f'Diketahui: \\nNilai Energi Potensial = {ep} Joule \\nNilai Ketinggian Benda = {h} M \\nNilai Percepatan Gravitasi = 10 M/S^2 ')\n",
    "print('Melalui rumus energi potensial yaitu EP = M x G x H')\n",
    "print('Besar Massa adalah', m , 'Kg')\n"
   ]
  },
  {
   "cell_type": "code",
   "execution_count": 10,
   "metadata": {},
   "outputs": [
    {
     "name": "stdout",
     "output_type": "stream",
     "text": [
      "Diketahui: \n",
      "Massa Jenis Benda 12.0 Kg/M^3\n",
      "Percepatan Gravitasi 10 M/S^2\n",
      "Volume Benda 8.0 M^3\n",
      "Melalui rumus Fa = ρ x g x V.\n",
      "Maka gaya apung benda tersebut adalah 960.0 Newton\n"
     ]
    }
   ],
   "source": [
    "#B\n",
    "mj = float(input('Masukkan Nilai Masa Jenis Benda '))\n",
    "p = float(input('Masukkan Nilai Panjang Benda '))\n",
    "l = float(input('Masukkan Nilai Lebar Benda '))\n",
    "t = float(input('Masukkan Nilai Tinggi Benda '))\n",
    "g = 10\n",
    "rumus = 'Fa = ρ x g x V.'\n",
    "volume = p*l*t\n",
    "hasil = mj * g * volume\n",
    "print(f'Diketahui: \\nMassa Jenis Benda {mj} Kg/M^3\\nPercepatan Gravitasi {g} M/S^2\\nVolume Benda {volume} M^3')\n",
    "print(f'Melalui rumus {rumus}')\n",
    "print(f'Maka gaya apung benda tersebut adalah {hasil} Newton')\n"
   ]
  },
  {
   "cell_type": "code",
   "execution_count": 4,
   "metadata": {},
   "outputs": [
    {
     "name": "stdout",
     "output_type": "stream",
     "text": [
      "Diketahui: \n",
      "Sisi = 1.0 m\n",
      "Melalui rumus A = ¼ √5 (5 + 2 √5) a²\n",
      "Maka Nilai Luas Segi Lima adalah 1.72 M^2\n"
     ]
    }
   ],
   "source": [
    "#C\n",
    "import math\n",
    "\n",
    "rumus = 'A = ¼ √5 (5 + 2 √5) a²'\n",
    "a = float(input('Masukkan Nilai Sisi Segi Lima '))\n",
    "A = a**2/4 * math.sqrt(5*(5+2*math.sqrt(5)))\n",
    "print('Diketahui: \\nSisi =', a, \"m\")\n",
    "print('Melalui rumus' ,rumus)\n",
    "print('Maka Nilai Luas Segi Lima adalah', \"{:.2f}\".format(A) ,'M^2')"
   ]
  },
  {
   "attachments": {},
   "cell_type": "markdown",
   "metadata": {},
   "source": [
    "## 2."
   ]
  },
  {
   "attachments": {},
   "cell_type": "markdown",
   "metadata": {},
   "source": [
    "Taman bermain ANCOL memiliki berbagai wahana, salah satunya adalah bianglala. Harga tiket yang dijual berbeda tergantung dengan kategori nya. Harga tiket bagi orang dewasa atau yang berumur lebih dari 17 tahun adalah Rp 110.000 , harga tiket untuk anak-anak usia 6-16 tahun adalah Rp. 75.000 , sedangkan untuk usia dibawahnya tidak dikenakan biaya. Pada wahana bianglala sedang ada \"Promo RAMADHAN\" sebesar 20% bagi pembelian tiket lebih dari 2 pcs.\n",
    "\n",
    "Keluarga Anya Forger ingin menaiki wahana bianglala tersebut, Anya (usia 18 tahun) pergi bersama ayah dan ibunya beserta dua adiknya, Harry (usia 8 tahun) dan Taylor (usia 4 tahun). \n",
    "\n",
    "> Buatlah program sederhana untuk menghitung harga total dari pembelian tiket  oleh keluarga Anya dan harga tiket setelah mendapatkan diskon"
   ]
  },
  {
   "cell_type": "code",
   "execution_count": 5,
   "metadata": {},
   "outputs": [
    {
     "name": "stdout",
     "output_type": "stream",
     "text": [
      "Harga Total Tiket Adalah 405000 Rp, harga setelah diskon 324000.0 Rp\n"
     ]
    }
   ],
   "source": [
    "dewasa = 3 * 110000\n",
    "anak = 1 * 75000\n",
    "\n",
    "total = dewasa+anak\n",
    "disc = 20/100\n",
    "totald = total * disc\n",
    "hargaakhir = total - totald\n",
    "print(f'Harga Total Tiket Adalah {total} Rp, harga setelah diskon {hargaakhir} Rp')"
   ]
  },
  {
   "attachments": {},
   "cell_type": "markdown",
   "metadata": {},
   "source": [
    "## 3. "
   ]
  },
  {
   "attachments": {},
   "cell_type": "markdown",
   "metadata": {},
   "source": [
    "diberikan list aslab sebagai berikut:\n",
    "```python\n",
    "list_aslab = [\n",
    "    {\"nama\": \"Berlian Safri Prakoso\", \"nim\": \"I0320017\", \"kontak\": \"0858XXXXXXXX\"},\n",
    "    {\"nama\": \"Halidya Siti Hanifah\", \"nim\": \"I0320044\", \"kontak\": \"0878XXXXXXXX\"},\n",
    "    {\"nama\": \"Nurki Putra Mahardika\", \"nim\": \"I0320076\", \"kontak\": \"0877XXXXXXXX\"},\n",
    "    {\"nama\": \"Aji Manarul Aziz\", \"nim\": \"I0320119\", \"kontak\": \"0812XXXXXXXX\"},\n",
    "    {\"nama\": \"Alica Ayu Fitriani\", \"nim\": \"I0320121\", \"kontak\": \"0896XXXXXXXX\"},\n",
    "    {\"nama\": \"Dendy Halim Kusuma\", \"nim\": \"I0320125\", \"kontak\": \"0822XXXXXXXX\"}\n",
    "]\n",
    "```\n",
    "* **A** Tuliskan kode untuk mengakses informasi tentang \"nama\" dari semua aslab mulai dari index 1 sampai 5\n",
    "* **B** Tambahkan informasi berikut pada data aslab dan tampilkan hasilnya:\n",
    "```python\n",
    "    surel = [\"berlian@student.uns.ac.id\",\n",
    "          \"halidya@student.uns.ac.id\",\n",
    "          \"nurki@student.uns.ac.id\",\n",
    "          \"manarul@student.uns.ac.id\",\n",
    "          \"alica@student.uns.ac.id\",\n",
    "          \"dendy@student.uns.ac.id\"]\n",
    "```\n",
    "* **C** Hapus nilai pada kunci \"kontak\" pada list aslab dan tampilkan hasilnya\n",
    "> *note: kalian hanya boleh menggunakan key-value pair yang disebutkan di dalam teks, tanpa menggunakan informasi tambahan yang diambil pada list yang ada*"
   ]
  },
  {
   "cell_type": "code",
   "execution_count": 42,
   "metadata": {},
   "outputs": [
    {
     "name": "stdout",
     "output_type": "stream",
     "text": [
      "Nama: Halidya Siti Hanifah\n",
      "Nama: Nurki Putra Mahardika\n",
      "Nama: Aji Manarul Aziz\n",
      "Nama: Alica Ayu Fitriani\n",
      "Nama: Dendy Halim Kusuma\n"
     ]
    }
   ],
   "source": [
    "#A\n",
    "list_aslab = [\n",
    "    {\"nama\": \"Berlian Safri Prakoso\", \"nim\": \"I0320017\", \"kontak\": \"0858XXXXXXXX\"},\n",
    "    {\"nama\": \"Halidya Siti Hanifah\", \"nim\": \"I0320044\", \"kontak\": \"0878XXXXXXXX\"},\n",
    "    {\"nama\": \"Nurki Putra Mahardika\", \"nim\": \"I0320076\", \"kontak\": \"0877XXXXXXXX\"},\n",
    "    {\"nama\": \"Aji Manarul Aziz\", \"nim\": \"I0320119\", \"kontak\": \"0812XXXXXXXX\"},\n",
    "    {\"nama\": \"Alica Ayu Fitriani\", \"nim\": \"I0320121\", \"kontak\": \"0896XXXXXXXX\"},\n",
    "    {\"nama\": \"Dendy Halim Kusuma\", \"nim\": \"I0320125\", \"kontak\": \"0822XXXXXXXX\"}\n",
    "]\n",
    "\n",
    "for i in range(1, len(list_aslab)):\n",
    "    print('Nama:', list_aslab[i]['nama']) "
   ]
  },
  {
   "cell_type": "code",
   "execution_count": 43,
   "metadata": {},
   "outputs": [
    {
     "name": "stdout",
     "output_type": "stream",
     "text": [
      "[{'nama': 'Berlian Safri Prakoso', 'nim': 'I0320017', 'kontak': '0858XXXXXXXX', 'surel': 'berlian@student.uns.ac.id'}, {'nama': 'Halidya Siti Hanifah', 'nim': 'I0320044', 'kontak': '0878XXXXXXXX', 'surel': 'halidya@student.uns.ac.id'}, {'nama': 'Nurki Putra Mahardika', 'nim': 'I0320076', 'kontak': '0877XXXXXXXX', 'surel': 'nurki@student.uns.ac.id'}, {'nama': 'Aji Manarul Aziz', 'nim': 'I0320119', 'kontak': '0812XXXXXXXX', 'surel': 'manarul@student.uns.ac.id'}, {'nama': 'Alica Ayu Fitriani', 'nim': 'I0320121', 'kontak': '0896XXXXXXXX', 'surel': 'alica@student.uns.ac.id'}, {'nama': 'Dendy Halim Kusuma', 'nim': 'I0320125', 'kontak': '0822XXXXXXXX', 'surel': 'dendy@student.uns.ac.id'}]\n"
     ]
    }
   ],
   "source": [
    "#B\n",
    "\n",
    "surel = [\"berlian@student.uns.ac.id\",\n",
    "         \"halidya@student.uns.ac.id\",\n",
    "         \"nurki@student.uns.ac.id\",\n",
    "         \"manarul@student.uns.ac.id\",\n",
    "         \"alica@student.uns.ac.id\",\n",
    "         \"dendy@student.uns.ac.id\"]\n",
    "\n",
    "for x in range(0,len(list_aslab)):\n",
    "    list_aslab[x]['surel'] = surel[x]\n",
    "print(list_aslab)"
   ]
  },
  {
   "cell_type": "code",
   "execution_count": 44,
   "metadata": {},
   "outputs": [
    {
     "name": "stdout",
     "output_type": "stream",
     "text": [
      "[{'nama': 'Berlian Safri Prakoso', 'nim': 'I0320017', 'surel': 'berlian@student.uns.ac.id'}, {'nama': 'Halidya Siti Hanifah', 'nim': 'I0320044', 'surel': 'halidya@student.uns.ac.id'}, {'nama': 'Nurki Putra Mahardika', 'nim': 'I0320076', 'surel': 'nurki@student.uns.ac.id'}, {'nama': 'Aji Manarul Aziz', 'nim': 'I0320119', 'surel': 'manarul@student.uns.ac.id'}, {'nama': 'Alica Ayu Fitriani', 'nim': 'I0320121', 'surel': 'alica@student.uns.ac.id'}, {'nama': 'Dendy Halim Kusuma', 'nim': 'I0320125', 'surel': 'dendy@student.uns.ac.id'}]\n"
     ]
    }
   ],
   "source": [
    "#C\n",
    "for y in range(0, len(list_aslab)):\n",
    "    del list_aslab[y]['kontak']\n",
    "    \n",
    "print(list_aslab)"
   ]
  }
 ],
 "metadata": {
  "kernelspec": {
   "display_name": "Python 3",
   "language": "python",
   "name": "python3"
  },
  "language_info": {
   "codemirror_mode": {
    "name": "ipython",
    "version": 3
   },
   "file_extension": ".py",
   "mimetype": "text/x-python",
   "name": "python",
   "nbconvert_exporter": "python",
   "pygments_lexer": "ipython3",
   "version": "3.11.2"
  },
  "orig_nbformat": 4,
  "vscode": {
   "interpreter": {
    "hash": "5addf786bcd861d1ce5006f23111f8cbb206731e5b61b0a5632ba9e0252558a8"
   }
  }
 },
 "nbformat": 4,
 "nbformat_minor": 2
}
