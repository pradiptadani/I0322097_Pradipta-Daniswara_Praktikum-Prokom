{
 "cells": [
  {
   "cell_type": "code",
   "execution_count": 1,
   "metadata": {},
   "outputs": [
    {
     "name": "stdout",
     "output_type": "stream",
     "text": [
      "Pradipta Daniswara\n",
      "I0322097\n",
      "C\n"
     ]
    }
   ],
   "source": [
    "print(input(\"Nama: \"))\n",
    "print(input(\"NIM: \"))\n",
    "print(input(\"Kelas: \"))"
   ]
  },
  {
   "attachments": {},
   "cell_type": "markdown",
   "metadata": {},
   "source": [
    "## 1."
   ]
  },
  {
   "attachments": {},
   "cell_type": "markdown",
   "metadata": {},
   "source": [
    "Buatlah program yang menampilkan tarif pajak yang harus dibayarkan oleh user dengan input yaitu nama user dan pendapatan dari user.<br>\n",
    "Dengan ketentuan sebagai berikut:\n",
    "* Jika pendapatan kurang dari atau sama dengan 10 juta, maka tarif pajak adalah 2,5%\n",
    "* Jika pendapatan kurang dari atau sama dengan 20 juta, maka tarif pajak adalah 5%\n",
    "* Jika pendapatan kurang dari atau sama dengan 50 juta, maka tarif pajak adalah 10%.\n",
    "* Jika pendapatan lebih dari 50 juta, maka tarif pajak adalah 12,5%.\n",
    "> *note: Kerjakan soal ini dengan percabangan*"
   ]
  },
  {
   "cell_type": "code",
   "execution_count": 5,
   "metadata": {},
   "outputs": [
    {
     "name": "stdout",
     "output_type": "stream",
     "text": [
      "Pajak\n",
      "* ≤ 10 juta, maka tarif pajak adalah 2,5% \n",
      "* ≤ 20 juta, maka tarif pajak adalah 5%\n",
      "* ≤ 50 juta, maka tarif pajak adalah 10%* \n",
      "* > 50 juta, maka tarif pajak adalah 12,5%.\n",
      "---------------------------------------------------\n",
      "Nama: Pradipta Daniswara\n",
      "Pendapatan: 125000000 Rp \n",
      "Melalui Perhitungan 125000000 x 12,5% maka pajak anda 15625000.0 Rp\n"
     ]
    }
   ],
   "source": [
    "nama = input('Sebutkan nama anda ')\n",
    "gaji = int(input('Sebutkan Gaji Anda '))\n",
    "\n",
    "print('Pajak\\n* ≤ 10 juta, maka tarif pajak adalah 2,5% \\n* ≤ 20 juta, maka tarif pajak adalah 5%\\n* ≤ 50 juta, maka tarif pajak adalah 10%* \\n* > 50 juta, maka tarif pajak adalah 12,5%.')\n",
    "print('---------------------------------------------------')\n",
    "print(f'Nama: {nama}')\n",
    "if gaji <= 1000000:\n",
    "    tax = gaji * 0.025\n",
    "    print(f'Pendapatan: {gaji} Rp \\nMelalui Perhitungan {gaji} x 2,5% maka pajak anda {tax} Rp')\n",
    "elif gaji <= 20000000:\n",
    "    tax = gaji * 0.05\n",
    "    print(f'Pendapatan: {gaji} Rp \\nMelalui Perhitungan {gaji} x 5% maka pajak anda {tax} Rp')\n",
    "elif gaji <= 50000000:\n",
    "    tax = gaji * 0.1\n",
    "    print(f'Pendapatan: {gaji} Rp \\nMelalui Perhitungan {gaji} x 10% maka pajak anda {tax} Rp')\n",
    "elif gaji > 50000000:\n",
    "    tax = gaji * 0.125\n",
    "    print(f'Pendapatan: {gaji} Rp \\nMelalui Perhitungan {gaji} x 12,5% maka pajak anda {tax} Rp')\n",
    "else:\n",
    "    print('Sebutkan Gaji Yang Valid!')\n"
   ]
  },
  {
   "attachments": {},
   "cell_type": "markdown",
   "metadata": {},
   "source": [
    "## 2."
   ]
  },
  {
   "attachments": {},
   "cell_type": "markdown",
   "metadata": {},
   "source": [
    "Buatlah program yang menampilkan akan melakukan validasi apakah mahasiswa tersebut berasal dari TI UNS berdasarkan NIM yang diinput oleh user:\n",
    "<br>Dengan ketentuan sebagai berikut:\n",
    "* NIM mahasiswa TI harus dimulai dengan \"I03\" dengan total panjang 8 karakter (I0320078 adalah contoh NIM mahasiswa TI UNS)\n",
    "* Program akan menampilkan pesan \"NIM mahasiswa TI UNS\" jika NIM yang dimasukkan sesuai dengan format yang dijelaskan di atas, dan akan menampilkan pesan \"NIM Anda tidak valid\" jika tidak sesuai.\n",
    "> *note: Kerjakan soal ini dengan percabangan*"
   ]
  },
  {
   "cell_type": "code",
   "execution_count": 8,
   "metadata": {},
   "outputs": [
    {
     "name": "stdout",
     "output_type": "stream",
     "text": [
      "NIM mahasiswa TI UNS: I0322097\n"
     ]
    }
   ],
   "source": [
    "nim = input('Input NIM anda ')\n",
    "if nim.startswith('I03') and len(nim) == 8:\n",
    "    print(f'NIM mahasiswa TI UNS: {nim}')\n",
    "else:\n",
    "    print('NIM Anda tidak valid')\n"
   ]
  }
 ],
 "metadata": {
  "kernelspec": {
   "display_name": "Python 3",
   "language": "python",
   "name": "python3"
  },
  "language_info": {
   "codemirror_mode": {
    "name": "ipython",
    "version": 3
   },
   "file_extension": ".py",
   "mimetype": "text/x-python",
   "name": "python",
   "nbconvert_exporter": "python",
   "pygments_lexer": "ipython3",
   "version": "3.11.2"
  },
  "orig_nbformat": 4
 },
 "nbformat": 4,
 "nbformat_minor": 2
}
